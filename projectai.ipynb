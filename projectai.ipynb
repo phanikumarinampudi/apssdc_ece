{
  "nbformat": 4,
  "nbformat_minor": 0,
  "metadata": {
    "colab": {
      "name": "projectai.ipynb",
      "provenance": [],
      "authorship_tag": "ABX9TyMd4JbYT7MFWAsrDnzQCFOO",
      "include_colab_link": true
    },
    "kernelspec": {
      "name": "python3",
      "display_name": "Python 3"
    },
    "language_info": {
      "name": "python"
    }
  },
  "cells": [
    {
      "cell_type": "markdown",
      "metadata": {
        "id": "view-in-github",
        "colab_type": "text"
      },
      "source": [
        "<a href=\"https://colab.research.google.com/github/phanikumarinampudi/apssdc_ece/blob/master/projectai.ipynb\" target=\"_parent\"><img src=\"https://colab.research.google.com/assets/colab-badge.svg\" alt=\"Open In Colab\"/></a>"
      ]
    },
    {
      "cell_type": "code",
      "execution_count": 12,
      "metadata": {
        "id": "qMCDxbIG3c78"
      },
      "outputs": [],
      "source": [
        "import tensorflow as tf\n",
        "from tensorflow import keras\n",
        "import string\n",
        "import re\n",
        "from numpy import array,argmax,random,take\n",
        "import pandas as pd\n",
        "from keras.models import Sequential\n",
        "from keras.layers import Dense,LSTM,Embedding,Bidirectional,RepeatVector,TimeDistributed\n",
        "from keras.preprocessing.text import Tokenizer\n",
        "from keras.callbacks import ModelCheckpoint\n",
        "from keras.preprocessing.sequence import pad_sequences\n",
        "from keras.models import load_model\n",
        "from keras import optimizers\n",
        "import matplotlib.pyplot as plt\n",
        "%matplotlib inline\n",
        "pd.set_option('display.max_colwidth', 200)"
      ]
    },
    {
      "cell_type": "code",
      "source": [
        "def read_text(filename):\n",
        "    file=open(filename, mode='rt', encoding='utf-8')\n",
        "    text=file.read()\n",
        "    file.close()\n",
        "    return text"
      ],
      "metadata": {
        "id": "AxObW9NN33f8"
      },
      "execution_count": 13,
      "outputs": []
    },
    {
      "cell_type": "code",
      "source": [
        "def to_lines(text):\n",
        "    sents=text.strip().split('\\n')\n",
        "    sents=[i.split('\\t') for i in sents]\n",
        "    return sents"
      ],
      "metadata": {
        "id": "6jmBWFyn4Di9"
      },
      "execution_count": 14,
      "outputs": []
    },
    {
      "cell_type": "code",
      "source": [
        "data=read_text(\"/deu.txt\")\n",
        "deu_eng=to_lines(data)\n",
        "deu_eng=array(deu_eng)"
      ],
      "metadata": {
        "id": "FU_qVbtz4Iyd"
      },
      "execution_count": 15,
      "outputs": []
    },
    {
      "cell_type": "code",
      "source": [
        "deu_eng = deu_eng[:50000,:]"
      ],
      "metadata": {
        "id": "O_2MNDM54Ngl"
      },
      "execution_count": 16,
      "outputs": []
    },
    {
      "cell_type": "code",
      "source": [
        "deu_eng"
      ],
      "metadata": {
        "colab": {
          "base_uri": "https://localhost:8080/"
        },
        "id": "aqXDxGkT6Sg1",
        "outputId": "947dc456-20f6-465c-98f0-c76857801361"
      },
      "execution_count": 17,
      "outputs": [
        {
          "output_type": "execute_result",
          "data": {
            "text/plain": [
              "array([['Go.', 'Geh.',\n",
              "        'CC-BY 2.0 (France) Attribution: tatoeba.org #2877272 (CM) & #8597805 (Roujin)'],\n",
              "       ['Hi.', 'Hallo!',\n",
              "        'CC-BY 2.0 (France) Attribution: tatoeba.org #538123 (CM) & #380701 (cburgmer)'],\n",
              "       ['Hi.', 'Grüß Gott!',\n",
              "        'CC-BY 2.0 (France) Attribution: tatoeba.org #538123 (CM) & #659813 (Esperantostern)'],\n",
              "       ...,\n",
              "       ['Who else is in there?', 'Wer ist noch dort drin?',\n",
              "        'CC-BY 2.0 (France) Attribution: tatoeba.org #3395974 (CK) & #3407455 (Pfirsichbaeumchen)'],\n",
              "       ['Who else was in here?', 'Wer war sonst noch hier drin?',\n",
              "        'CC-BY 2.0 (France) Attribution: tatoeba.org #3434402 (CK) & #3610264 (Jan_Schreiber)'],\n",
              "       ['Who fixed the window?', 'Wer hat das Fenster hergerichtet?',\n",
              "        'CC-BY 2.0 (France) Attribution: tatoeba.org #9855581 (DJ_Saidez) & #9855585 (brauchinet)']],\n",
              "      dtype='<U537')"
            ]
          },
          "metadata": {},
          "execution_count": 17
        }
      ]
    },
    {
      "cell_type": "code",
      "source": [
        "eng_1=[]\n",
        "deu_1=[]\n",
        "for i in deu_eng[:,0]:\n",
        "    eng_1.append(len(i.split()))\n",
        "for i in deu_eng[:,1]:\n",
        "    deu_1.append(len(i.split()))"
      ],
      "metadata": {
        "id": "7ZgxH_g16XOW"
      },
      "execution_count": 18,
      "outputs": []
    },
    {
      "cell_type": "code",
      "source": [
        "length_df=pd.DataFrame({'eng':eng_1,'deu':deu_1})"
      ],
      "metadata": {
        "id": "Bmp0jAqL6cC0"
      },
      "execution_count": 19,
      "outputs": []
    },
    {
      "cell_type": "code",
      "source": [
        "length_df.hist(bins=30)\n",
        "plt.show()"
      ],
      "metadata": {
        "colab": {
          "base_uri": "https://localhost:8080/",
          "height": 281
        },
        "id": "64ep9XuN6gl1",
        "outputId": "adce0897-55de-4a9f-fc64-f03356319a5c"
      },
      "execution_count": 20,
      "outputs": [
        {
          "output_type": "display_data",
          "data": {
            "image/png": "[encoded data removed]",
            "text/plain": [
              "<Figure size 432x288 with 2 Axes>"
            ]
          },
          "metadata": {
            "needs_background": "light"
          }
        }
      ]
    },
    {
      "cell_type": "code",
      "source": [
        "def tokenization(lines):\n",
        "    tokenizer=Tokenizer()\n",
        "    tokenizer.fit_on_texts(lines)\n",
        "    return tokenizer"
      ],
      "metadata": {
        "id": "JiWAyZ4m6lFn"
      },
      "execution_count": 21,
      "outputs": []
    },
    {
      "cell_type": "code",
      "source": [
        "eng_tokenizer=tokenization(deu_eng[:,0])\n",
        "eng_vocab_size=len(eng_tokenizer.word_index)+1\n",
        "eng_length=8\n",
        "print('English Vocabulary size:%d'%eng_vocab_size)"
      ],
      "metadata": {
        "colab": {
          "base_uri": "https://localhost:8080/"
        },
        "id": "D3fnYgOT6qSv",
        "outputId": "9c9bb6d3-bc16-456d-a54f-b613040d518a"
      },
      "execution_count": 22,
      "outputs": [
        {
          "output_type": "stream",
          "name": "stdout",
          "text": [
            "English Vocabulary size:6167\n"
          ]
        }
      ]
    },
    {
      "cell_type": "code",
      "source": [
        "deu_tokenizer=tokenization(deu_eng[:,1])\n",
        "deu_vocab_size=len(deu_tokenizer.word_index)+1\n",
        "deu_length=8\n",
        "print('Deutch Vocabulary size:%d'%deu_vocab_size)"
      ],
      "metadata": {
        "colab": {
          "base_uri": "https://localhost:8080/"
        },
        "id": "8AijS4vr6u4P",
        "outputId": "99606d18-5d11-4e16-a1a8-d3dbe235162d"
      },
      "execution_count": 23,
      "outputs": [
        {
          "output_type": "stream",
          "name": "stdout",
          "text": [
            "Deutch Vocabulary size:10146\n"
          ]
        }
      ]
    },
    {
      "cell_type": "code",
      "source": [
        "def encode_sequences(tokenizer,length,lines):\n",
        "    seq=tokenizer.texts_to_sequences(lines)\n",
        "    seq=pad_sequences(seq,maxlen=length,padding='post')\n",
        "    return seq"
      ],
      "metadata": {
        "id": "mfTr8LsZ60ig"
      },
      "execution_count": 24,
      "outputs": []
    },
    {
      "cell_type": "code",
      "source": [
        "from sklearn.model_selection import train_test_split\n",
        "train,test=train_test_split(deu_eng,test_size=0.2,random_state=12)"
      ],
      "metadata": {
        "id": "oSSNhNli640P"
      },
      "execution_count": 25,
      "outputs": []
    },
    {
      "cell_type": "code",
      "source": [
        "trainX=encode_sequences(deu_tokenizer,deu_length,train[:,1])\n",
        "trainY=encode_sequences(eng_tokenizer,eng_length,train[:,0])"
      ],
      "metadata": {
        "id": "cBTRgUi9688N"
      },
      "execution_count": 26,
      "outputs": []
    },
    {
      "cell_type": "code",
      "source": [
        "testX=encode_sequences(deu_tokenizer,deu_length,train[:,1])\n",
        "testY=encode_sequences(eng_tokenizer,eng_length,train[:,0])"
      ],
      "metadata": {
        "id": "EfdKmWj47GLf"
      },
      "execution_count": 27,
      "outputs": []
    },
    {
      "cell_type": "code",
      "source": [
        "def build_model(in_vocab,out_vocab,in_timesteps,out_timesteps,units):\n",
        "    model=Sequential()\n",
        "    model.add(Embedding(in_vocab,units,input_length=in_timesteps,mask_zero=True))\n",
        "    model.add(LSTM(units))\n",
        "    model.add(RepeatVector(out_timesteps))\n",
        "    model.add(LSTM(units,return_sequences=True))\n",
        "    model.add(Dense(out_vocab,activation='softmax'))\n",
        "    return model"
      ],
      "metadata": {
        "id": "dTaDjCjx7Kt8"
      },
      "execution_count": 28,
      "outputs": []
    },
    {
      "cell_type": "code",
      "source": [
        "model=build_model(deu_vocab_size,eng_vocab_size,deu_length,eng_length,512)\n",
        "rms=keras.optimizers.RMSprop(lr=0.001)\n",
        "model.compile(optimizer=rms,loss='sparse_categorical_crossentropy')"
      ],
      "metadata": {
        "colab": {
          "base_uri": "https://localhost:8080/"
        },
        "id": "WmKR28QH7OY6",
        "outputId": "53798c5c-e649-421b-ca80-7616c72e1887"
      },
      "execution_count": 29,
      "outputs": [
        {
          "output_type": "stream",
          "name": "stderr",
          "text": [
            "/usr/local/lib/python3.7/dist-packages/keras/optimizer_v2/rmsprop.py:130: UserWarning: The `lr` argument is deprecated, use `learning_rate` instead.\n",
            "  super(RMSprop, self).__init__(name, **kwargs)\n"
          ]
        }
      ]
    },
    {
      "cell_type": "code",
      "source": [
        "filename='model.h1.24_aashutosh'\n",
        "checkpoint=ModelCheckpoint(filename,monitor='val_loss',verbose=1,save_best_only=True,mode='min')\n",
        "history=model.fit(trainX,trainY.reshape(trainY.shape[0],trainY.shape[1],1),epochs=5,batch_size=512,validation_split=0.2,callbacks=[checkpoint],verbose=1)"
      ],
      "metadata": {
        "colab": {
          "base_uri": "https://localhost:8080/"
        },
        "id": "MEcQJO7a7UFI",
        "outputId": "95402790-f07e-4610-9908-9abb3415a043"
      },
      "execution_count": null,
      "outputs": [
        {
          "output_type": "stream",
          "name": "stdout",
          "text": [
            "Epoch 1/5\n",
            "63/63 [==============================] - ETA: 0s - loss: 3.3450\n",
            "Epoch 00001: val_loss improved from inf to 2.79480, saving model to model.h1.24_aashutosh\n"
          ]
        },
        {
          "output_type": "stream",
          "name": "stderr",
          "text": [
            "WARNING:absl:Found untraced functions such as lstm_cell_layer_call_fn, lstm_cell_layer_call_and_return_conditional_losses, lstm_cell_1_layer_call_fn, lstm_cell_1_layer_call_and_return_conditional_losses, lstm_cell_layer_call_fn while saving (showing 5 of 10). These functions will not be directly callable after loading.\n"
          ]
        },
        {
          "output_type": "stream",
          "name": "stdout",
          "text": [
            "INFO:tensorflow:Assets written to: model.h1.24_aashutosh/assets\n"
          ]
        },
        {
          "output_type": "stream",
          "name": "stderr",
          "text": [
            "INFO:tensorflow:Assets written to: model.h1.24_aashutosh/assets\n",
            "WARNING:absl:<keras.layers.recurrent.LSTMCell object at 0x7f9b7df57350> has the same name 'LSTMCell' as a built-in Keras object. Consider renaming <class 'keras.layers.recurrent.LSTMCell'> to avoid naming conflicts when loading with `tf.keras.models.load_model`. If renaming is not possible, pass the object in the `custom_objects` parameter of the load function.\n",
            "WARNING:absl:<keras.layers.recurrent.LSTMCell object at 0x7f9b8854c910> has the same name 'LSTMCell' as a built-in Keras object. Consider renaming <class 'keras.layers.recurrent.LSTMCell'> to avoid naming conflicts when loading with `tf.keras.models.load_model`. If renaming is not possible, pass the object in the `custom_objects` parameter of the load function.\n"
          ]
        },
        {
          "output_type": "stream",
          "name": "stdout",
          "text": [
            "\b\b\b\b\b\b\b\b\b\b\b\b\b\b\b\b\b\b\b\b\b\b\b\b\b\b\b\b\b\b\b\b\b\b\b\b\b\b\b\b\b\b\b\b\b\b\b\b\b\b\b\b\b\b\b\b\b\b\b\b\b\b\b\r63/63 [==============================] - 295s 5s/step - loss: 3.3450 - val_loss: 2.7948\n",
            "Epoch 2/5\n",
            "63/63 [==============================] - ETA: 0s - loss: 2.7006\n",
            "Epoch 00002: val_loss improved from 2.79480 to 2.68809, saving model to model.h1.24_aashutosh\n"
          ]
        },
        {
          "output_type": "stream",
          "name": "stderr",
          "text": [
            "WARNING:absl:Found untraced functions such as lstm_cell_layer_call_fn, lstm_cell_layer_call_and_return_conditional_losses, lstm_cell_1_layer_call_fn, lstm_cell_1_layer_call_and_return_conditional_losses, lstm_cell_layer_call_fn while saving (showing 5 of 10). These functions will not be directly callable after loading.\n"
          ]
        },
        {
          "output_type": "stream",
          "name": "stdout",
          "text": [
            "INFO:tensorflow:Assets written to: model.h1.24_aashutosh/assets\n"
          ]
        },
        {
          "output_type": "stream",
          "name": "stderr",
          "text": [
            "INFO:tensorflow:Assets written to: model.h1.24_aashutosh/assets\n",
            "WARNING:absl:<keras.layers.recurrent.LSTMCell object at 0x7f9b7df57350> has the same name 'LSTMCell' as a built-in Keras object. Consider renaming <class 'keras.layers.recurrent.LSTMCell'> to avoid naming conflicts when loading with `tf.keras.models.load_model`. If renaming is not possible, pass the object in the `custom_objects` parameter of the load function.\n",
            "WARNING:absl:<keras.layers.recurrent.LSTMCell object at 0x7f9b8854c910> has the same name 'LSTMCell' as a built-in Keras object. Consider renaming <class 'keras.layers.recurrent.LSTMCell'> to avoid naming conflicts when loading with `tf.keras.models.load_model`. If renaming is not possible, pass the object in the `custom_objects` parameter of the load function.\n"
          ]
        },
        {
          "output_type": "stream",
          "name": "stdout",
          "text": [
            "\b\b\b\b\b\b\b\b\b\b\b\b\b\b\b\b\b\b\b\b\b\b\b\b\b\b\b\b\b\b\b\b\b\b\b\b\b\b\b\b\b\b\b\b\b\b\b\b\b\b\b\b\b\b\b\b\b\b\b\b\b\b\b\r63/63 [==============================] - 283s 5s/step - loss: 2.7006 - val_loss: 2.6881\n",
            "Epoch 3/5\n",
            "50/63 [======================>.......] - ETA: 50s - loss: 2.5441"
          ]
        }
      ]
    },
    {
      "cell_type": "code",
      "source": [
        "plt.plot(history.history['loss'])\n",
        "plt.plot(history.history['val_loss'])\n",
        "plt.legend(['train','validation'])\n",
        "plt.show()"
      ],
      "metadata": {
        "id": "w3zy_2muDhbp"
      },
      "execution_count": null,
      "outputs": []
    },
    {
      "cell_type": "code",
      "source": [
        "model=load_model('model.h1.24_aashutosh')\n",
        "preds = model.predict(testX.reshape((testX.shape[0],testX.shape[1])))"
      ],
      "metadata": {
        "id": "xBuglpVzDrgB"
      },
      "execution_count": null,
      "outputs": []
    },
    {
      "cell_type": "code",
      "source": [
        "def get_word(n,tokenizer):\n",
        "    for word,index in tokenizer.word_index.items():\n",
        "        if index==n:\n",
        "            return word\n",
        "    return None"
      ],
      "metadata": {
        "id": "WvRHy1i4F0nF"
      },
      "execution_count": null,
      "outputs": []
    },
    {
      "cell_type": "code",
      "source": [
        "preds_text=[]\n",
        "for i in preds:\n",
        "    temp=[]\n",
        "    for j in range(len(i)):\n",
        "        t=get_word(i[j],eng_tokenizer)\n",
        "        if j>0:\n",
        "            if(t==get_word(i[j-1],eng_tokenizer))or(t==None):\n",
        "                temp.append('')\n",
        "            else:\n",
        "                temp.append(t)\n",
        "        else:\n",
        "            if(t==None):\n",
        "                temp.append('')\n",
        "            else:\n",
        "                temp.append(t)\n",
        "        preds_text.append(''.join(temp))"
      ],
      "metadata": {
        "id": "ud8POLOiF6P4"
      },
      "execution_count": null,
      "outputs": []
    },
    {
      "cell_type": "code",
      "source": [
        ""
      ],
      "metadata": {
        "id": "aqkrKei9GBxC"
      },
      "execution_count": null,
      "outputs": []
    }
  ]
}